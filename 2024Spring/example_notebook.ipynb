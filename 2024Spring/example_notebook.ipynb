{
 "cells": [
  {
   "cell_type": "markdown",
   "source": [
    "# Get a list of Targets that are part of a particular pathway\n",
    "#### Create a POST request to the RaMP API"
   ],
   "metadata": {
    "collapsed": false
   },
   "id": "6af96d23024eee0d"
  },
  {
   "cell_type": "code",
   "execution_count": 16,
   "outputs": [],
   "source": [
    "import requests\n",
    "import json\n",
    "import pandas as pd\n",
    "\n",
    "ramp_url = \"https://rampdb.nih.gov/api/analytes-from-pathways\"\n",
    "\n",
    "post_body = {\n",
    "    \"analyte_type\": \"gene\",\n",
    "    \"names_or_ids\": \"names\",\n",
    "    \"max_pathway_size\": 500,\n",
    "    \"pathway\": [\"Disturbed pathways in Duchenne Muscular Dystrophy\"]\n",
    "}"
   ],
   "metadata": {
    "collapsed": false,
    "ExecuteTime": {
     "end_time": "2024-04-05T12:01:04.662075Z",
     "start_time": "2024-04-05T12:01:04.650687Z"
    }
   },
   "id": "440d964d31af4cab"
  },
  {
   "cell_type": "markdown",
   "source": [
    "#### do the POST request"
   ],
   "metadata": {
    "collapsed": false
   },
   "id": "28ae39fa028f3671"
  },
  {
   "cell_type": "code",
   "execution_count": 17,
   "outputs": [],
   "source": [
    "response = requests.post(ramp_url, data=post_body)\n",
    "response_json = json.loads(response.text)[\"data\"]"
   ],
   "metadata": {
    "collapsed": false,
    "ExecuteTime": {
     "end_time": "2024-04-05T12:01:07.117758Z",
     "start_time": "2024-04-05T12:01:06.209398Z"
    }
   },
   "id": "5317b4f5c5587754"
  },
  {
   "cell_type": "markdown",
   "source": [
    "#### Parse the result"
   ],
   "metadata": {
    "collapsed": false
   },
   "id": "d98be07d2196b280"
  },
  {
   "cell_type": "code",
   "execution_count": 18,
   "outputs": [
    {
     "name": "stdout",
     "output_type": "stream",
     "text": [
      "              0\n",
      "0        E9PR09\n",
      "1        P01375\n",
      "2        B4DSV7\n",
      "3    A0A5H1ZRQ8\n",
      "4        G3V3K1\n",
      "..          ...\n",
      "220      P08505\n",
      "221      Q4G0X0\n",
      "222  A0A499FJK2\n",
      "223  A0A494C1Q6\n",
      "224      Q6TME4\n",
      "\n",
      "[225 rows x 1 columns]\n"
     ]
    }
   ],
   "source": [
    "target_uniprots = [id.split(\":\")[1] \n",
    "                   for entry in response_json \n",
    "                   for id in entry[\"sourceAnalyteIDs\"].split(\";\") if id.strip().startswith(\"uniprot:\")]\n",
    "\n",
    "target_uniprots = list(set(target_uniprots))\n",
    "\n",
    "print(pd.DataFrame(target_uniprots))"
   ],
   "metadata": {
    "collapsed": false,
    "ExecuteTime": {
     "end_time": "2024-04-05T12:01:08.548361Z",
     "start_time": "2024-04-05T12:01:08.484662Z"
    }
   },
   "id": "b1bc10c77c95d13a"
  },
  {
   "cell_type": "markdown",
   "source": [
    "# Get gene-disease associations and drug activities for those targets\n",
    "#### Create a POST request to the Pharos API"
   ],
   "metadata": {
    "collapsed": false
   },
   "id": "a19100cdafc41284"
  },
  {
   "cell_type": "code",
   "execution_count": 19,
   "outputs": [],
   "source": [
    "pharos_url = \"https://pharos-api.ncats.io/graphql\"\n",
    "\n",
    "post_body = {\n",
    "  \"query\": \"\"\"query targetDetails($targets: [String]){\n",
    "  targets(targets: $targets) {\n",
    "    count\n",
    "    targets(top: 100000) {\n",
    "      name\n",
    "      uniprot\n",
    "      ligands(isdrug: true) {\n",
    "        name\n",
    "        synonyms {\n",
    "          value\n",
    "          name\n",
    "        }\n",
    "      }\n",
    "      diseases {\n",
    "        mondoID\n",
    "        name\n",
    "        mondoEquivalents {\n",
    "          id\n",
    "          name\n",
    "        }\n",
    "      }\n",
    "    }\n",
    "  }\n",
    "}\"\"\",\n",
    "  \"variables\": {\"targets\": target_uniprots},\n",
    "  \"operationName\": \"targetDetails\"\n",
    "}"
   ],
   "metadata": {
    "collapsed": false,
    "ExecuteTime": {
     "end_time": "2024-04-05T12:01:10.140123Z",
     "start_time": "2024-04-05T12:01:10.086861Z"
    }
   },
   "id": "d573f51efc43f8cb"
  },
  {
   "cell_type": "markdown",
   "source": [
    "#### do the POST request"
   ],
   "metadata": {
    "collapsed": false
   },
   "id": "765e1295674bebbb"
  },
  {
   "cell_type": "code",
   "execution_count": 20,
   "outputs": [],
   "source": [
    "response = requests.post(pharos_url, json=post_body)\n",
    "response_json = json.loads(response.text)[\"data\"]\n",
    "target_list = response_json[\"targets\"][\"targets\"]"
   ],
   "metadata": {
    "collapsed": false,
    "ExecuteTime": {
     "end_time": "2024-04-05T12:01:17.282382Z",
     "start_time": "2024-04-05T12:01:11.285244Z"
    }
   },
   "id": "6a80c604d661327f"
  },
  {
   "cell_type": "markdown",
   "source": [
    "#### Parse the disease results"
   ],
   "metadata": {
    "collapsed": false
   },
   "id": "fbe4e307bd32f2bb"
  },
  {
   "cell_type": "code",
   "execution_count": 21,
   "outputs": [
    {
     "name": "stdout",
     "output_type": "stream",
     "text": [
      "           mondoID                                               name  \\\n",
      "0    MONDO:0005302  attention deficit hyperactivity disorder, inat...   \n",
      "1    MONDO:0009807                                       osteosarcoma   \n",
      "2    MONDO:0005083                                          psoriasis   \n",
      "3    MONDO:0005575                                  colorectal cancer   \n",
      "4    MONDO:0007959                                    medulloblastoma   \n",
      "..             ...                                                ...   \n",
      "299  MONDO:0005136                                            malaria   \n",
      "300  MONDO:0006932                                    pulmonary edema   \n",
      "301  MONDO:0004979                                             asthma   \n",
      "302  MONDO:0004975                                  Alzheimer disease   \n",
      "303  MONDO:0001566                              hypercalcemia disease   \n",
      "\n",
      "                                      mondoEquivalents  \n",
      "0    [{'id': 'COHD:438409', 'name': None}, {'id': '...  \n",
      "1    [{'id': 'DOID:3347', 'name': 'osteosarcoma'}, ...  \n",
      "2    [{'id': 'COHD:140168', 'name': None}, {'id': '...  \n",
      "3    [{'id': 'DOID:5672', 'name': 'large intestine ...  \n",
      "4    [{'id': 'DOID:0050902', 'name': 'medulloblasto...  \n",
      "..                                                 ...  \n",
      "299  [{'id': 'COHD:438067', 'name': None}, {'id': '...  \n",
      "300  [{'id': 'DOID:11396', 'name': 'pulmonary edema...  \n",
      "301  [{'id': 'COHD:317009', 'name': None}, {'id': '...  \n",
      "302  [{'id': 'COHD:378419', 'name': None}, {'id': '...  \n",
      "303  [{'id': 'COHD:435511', 'name': None}, {'id': '...  \n",
      "\n",
      "[304 rows x 3 columns]\n"
     ]
    }
   ],
   "source": [
    "disease_objects = [disease for target in target_list for disease in target[\"diseases\"]]\n",
    "disease_names = list(set(disease[\"name\"] for disease in disease_objects))\n",
    "\n",
    "print(pd.DataFrame(disease_objects))\n",
    "\n",
    "gard_aliases = [alias[\"id\"] for disease in disease_objects if disease[\"mondoEquivalents\"] is not None for alias in disease[\"mondoEquivalents\"] if alias[\"id\"].startswith(\"GARD:\")]\n",
    "gard_aliases = list(set(gard_aliases))"
   ],
   "metadata": {
    "collapsed": false,
    "ExecuteTime": {
     "end_time": "2024-04-05T12:01:17.337653Z",
     "start_time": "2024-04-05T12:01:17.322502Z"
    }
   },
   "id": "2d6e269af85730ae"
  },
  {
   "cell_type": "markdown",
   "source": [
    "#### Parse the drug results"
   ],
   "metadata": {
    "collapsed": false
   },
   "id": "7f3fadd30404756"
  },
  {
   "cell_type": "code",
   "execution_count": 22,
   "outputs": [
    {
     "name": "stdout",
     "output_type": "stream",
     "text": [
      "                    name                                           synonyms\n",
      "0            abemaciclib  [{'value': '60UAB198HK', 'name': 'unii'}, {'va...\n",
      "1             gabapentin  [{'value': '6CW7F3G59X', 'name': 'unii'}, {'va...\n",
      "2             pregabalin  [{'value': '55JG375S6M', 'name': 'unii'}, {'va...\n",
      "3   gabapentin enacarbil  [{'value': '75OCL1SPBQ', 'name': 'unii'}, {'va...\n",
      "4            mirogabalin  [{'value': '81689826', 'name': 'PubChem'}, {'v...\n",
      "5              sunitinib  [{'value': 'V99T50803M', 'name': 'unii'}, {'va...\n",
      "6          cepharanthine  [{'value': '7592YJ0J6T', 'name': 'unii'}, {'va...\n",
      "7              verapamil  [{'value': 'CJ0O37KU29', 'name': 'unii'}, {'va...\n",
      "8             nifedipine  [{'value': 'I9ZF7L6G2L', 'name': 'unii'}, {'va...\n",
      "9              diltiazem  [{'value': 'EE92BBP03H', 'name': 'unii'}, {'va...\n",
      "10          nitrendipine  [{'value': '9B627AW319', 'name': 'unii'}, {'va...\n",
      "11            nimodipine  [{'value': '57WA9QZ5WH', 'name': 'unii'}, {'va...\n",
      "12            nifedipine  [{'value': 'I9ZF7L6G2L', 'name': 'unii'}, {'va...\n",
      "13             diltiazem  [{'value': 'EE92BBP03H', 'name': 'unii'}, {'va...\n",
      "14          nitrendipine  [{'value': '9B627AW319', 'name': 'unii'}, {'va...\n",
      "15            nimodipine  [{'value': '57WA9QZ5WH', 'name': 'unii'}, {'va...\n",
      "16            isradipine  [{'value': 'YO1UK1S598', 'name': 'unii'}, {'va...\n",
      "17             clemizole  [{'value': 'T97CB3796L', 'name': 'unii'}, {'va...\n",
      "18          norgestimate  [{'value': 'C291HFX4DY', 'name': 'unii'}, {'va...\n",
      "19         cepharanthine  [{'value': '7592YJ0J6T', 'name': 'unii'}, {'va...\n",
      "20             amiloride  [{'value': '7DZO8EB0Z3', 'name': 'unii'}, {'va...\n",
      "21             clemizole  [{'value': 'T97CB3796L', 'name': 'unii'}, {'va...\n",
      "22          norgestimate  [{'value': 'C291HFX4DY', 'name': 'unii'}, {'va...\n",
      "23             sirolimus  [{'value': 'W36ZG6FT64', 'name': 'unii'}, {'va...\n",
      "24            tacrolimus  [{'value': '294O3172M2', 'name': 'unii'}, {'va...\n",
      "25            everolimus  [{'value': '9HW64Q8G6G', 'name': 'unii'}, {'va...\n",
      "26          temsirolimus  [{'value': '624KN6GM2T', 'name': 'unii'}, {'va...\n",
      "27          pimecrolimus  [{'value': '7KYV510875', 'name': 'unii'}, {'va...\n",
      "28         aminopicoline  [{'value': '394N1Z644H', 'name': 'unii'}, {'va...\n",
      "29            telaprevir  [{'value': '655M5O3W0U', 'name': 'unii'}, {'va...\n",
      "30            sivelestat  [{'value': 'DWI62G0P59', 'name': 'unii'}, {'va...\n",
      "31            golodirsen  [{'value': 'CHEMBL4297762', 'name': 'ChEMBL'},...\n",
      "32            eteplirsen  [{'value': 'CHEMBL2108278', 'name': 'ChEMBL'},...\n",
      "33           viltolarsen  [{'value': 'CHEMBL4298062', 'name': 'ChEMBL'},...\n",
      "34            casimersen  [{'value': 'CHEMBL4297566', 'name': 'ChEMBL'},...\n",
      "35            paroxetine  [{'value': '41VRH5220H', 'name': 'unii'}, {'va...\n",
      "36        metoclopramide  [{'value': 'L4YEB44I46', 'name': 'unii'}, {'va...\n",
      "37        mefenamic acid  [{'value': '367589PJ2C', 'name': 'unii'}, {'va...\n",
      "38           hydralazine  [{'value': '26NAK24LS8', 'name': 'unii'}, {'va...\n",
      "39               dapsone  [{'value': '8W5C518302', 'name': 'unii'}, {'va...\n",
      "40             ftivazide  [{'value': '40Q4C3O4V0', 'name': 'unii'}, {'va...\n",
      "41            rilonacept  [{'value': 'CHEMBL1201830', 'name': 'ChEMBL'},...\n",
      "42          prednisolone  [{'value': '9PHQ9Y1OLM', 'name': 'unii'}, {'va...\n",
      "43            siltuximab  [{'value': 'CHEMBL1743070', 'name': 'ChEMBL'},...\n",
      "44            adalimumab  [{'value': 'CHEMBL1201580', 'name': 'ChEMBL'},...\n",
      "45             golimumab  [{'value': 'CHEMBL1201833', 'name': 'ChEMBL'},...\n",
      "46    certolizumab pegol  [{'value': 'CHEMBL1201831', 'name': 'ChEMBL'},...\n",
      "47            infliximab  [{'value': 'CHEMBL1201581', 'name': 'ChEMBL'},...\n",
      "48            etanercept  [{'value': 'CHEMBL1201572', 'name': 'ChEMBL'},...\n"
     ]
    }
   ],
   "source": [
    "drug_objects = [drug for target in target_list for drug in target[\"ligands\"]]\n",
    "drug_names = list(set(drug[\"name\"] for drug in drug_objects))\n",
    "\n",
    "print(pd.DataFrame(drug_objects))\n",
    "\n",
    "unii_aliases = [synonym[\"value\"] for drug in drug_objects for synonym in drug[\"synonyms\"] if synonym[\"name\"] == \"unii\"]\n",
    "unii_aliases = list(set(unii_aliases))"
   ],
   "metadata": {
    "collapsed": false,
    "ExecuteTime": {
     "end_time": "2024-04-05T12:01:17.461627Z",
     "start_time": "2024-04-05T12:01:17.348991Z"
    }
   },
   "id": "caf3869f515943af"
  },
  {
   "cell_type": "markdown",
   "source": [
    "## Get Disease Details\n",
    "#### Create POST request to the RDAS API"
   ],
   "metadata": {
    "collapsed": false
   },
   "id": "21c62a7e54cc3d03"
  },
  {
   "cell_type": "code",
   "execution_count": 23,
   "outputs": [],
   "source": [
    "rdas_url = \"https://rdas.ncats.nih.gov/api/diseases\"\n",
    "\n",
    "post_body = {\n",
    "    \"query\": \"\"\"query diseaseQuery($where: GARDWhere) {\n",
    "  gards(where: $where) {\n",
    "    GardId\n",
    "    GardName\n",
    "    MeSH\n",
    "    Synonyms\n",
    "    COUNT_ARTICLES\n",
    "    COUNT_TRIALS\n",
    "    ClassificationLevel\n",
    "  }\n",
    "}\"\"\", \n",
    "\n",
    "  \"variables\": {\"where\": {\"GardId_IN\": gard_aliases}},\n",
    "  \"operationName\": \"diseaseQuery\"\n",
    "}"
   ],
   "metadata": {
    "collapsed": false,
    "ExecuteTime": {
     "end_time": "2024-04-05T12:01:17.462036Z",
     "start_time": "2024-04-05T12:01:17.399306Z"
    }
   },
   "id": "fd8388104ca9cd29"
  },
  {
   "cell_type": "markdown",
   "source": [
    "#### do the POST request"
   ],
   "metadata": {
    "collapsed": false
   },
   "id": "f778369ab31fe898"
  },
  {
   "cell_type": "code",
   "execution_count": 24,
   "outputs": [],
   "source": [
    "response = requests.post(rdas_url, json=post_body)\n",
    "response_json = json.loads(response.text)[\"data\"]"
   ],
   "metadata": {
    "collapsed": false,
    "ExecuteTime": {
     "end_time": "2024-04-05T12:01:18.587034Z",
     "start_time": "2024-04-05T12:01:18.412209Z"
    }
   },
   "id": "b0c99ba1161896b8"
  },
  {
   "cell_type": "markdown",
   "source": [
    "#### parse the results"
   ],
   "metadata": {
    "collapsed": false
   },
   "id": "14dd447c43f0426b"
  },
  {
   "cell_type": "code",
   "execution_count": 25,
   "outputs": [
    {
     "name": "stdout",
     "output_type": "stream",
     "text": [
      "          GardId                        GardName COUNT_ARTICLES COUNT_TRIALS  \\\n",
      "0   GARD:0007893                  Wilson disease           6487           48   \n",
      "1   GARD:0007471  Progressive supranuclear palsy           5100          111   \n",
      "2   GARD:0007459     Primary biliary cholangitis           9745          115   \n",
      "3   GARD:0005784  Alpha-1-antitrypsin deficiency           3822           97   \n",
      "4   GARD:0010480  Spinocerebellar ataxia type 29             11            1   \n",
      "..           ...                             ...            ...          ...   \n",
      "67  GARD:0010574       Åland Islands eye disease             13            0   \n",
      "68  GARD:0006729  Hypokalemic periodic paralysis            768            4   \n",
      "69  GARD:0005694            Retinitis pigmentosa           9853          196   \n",
      "70  GARD:0004702      Embryonal rhabdomyosarcoma           1555            5   \n",
      "71  GARD:0013215            Renal cell carcinoma          48773          674   \n",
      "\n",
      "    ClassificationLevel  \n",
      "0              Disorder  \n",
      "1              Disorder  \n",
      "2              Disorder  \n",
      "3              Disorder  \n",
      "4              Disorder  \n",
      "..                  ...  \n",
      "67             Disorder  \n",
      "68             Disorder  \n",
      "69             Disorder  \n",
      "70  Subtype of disorder  \n",
      "71   Group of disorders  \n",
      "\n",
      "[72 rows x 5 columns]\n"
     ]
    }
   ],
   "source": [
    "gard_data = [{\n",
    "    \"GardId\": obj[\"GardId\"],\n",
    "    \"GardName\": obj[\"GardName\"],\n",
    "    \"COUNT_ARTICLES\": obj[\"COUNT_ARTICLES\"],\n",
    "    \"COUNT_TRIALS\": obj[\"COUNT_TRIALS\"],\n",
    "    \"ClassificationLevel\": obj[\"ClassificationLevel\"]\n",
    "} for obj in response_json[\"gards\"]]\n",
    "df = pd.DataFrame(gard_data)\n",
    "print(df)"
   ],
   "metadata": {
    "collapsed": false,
    "ExecuteTime": {
     "end_time": "2024-04-05T12:01:20.724487Z",
     "start_time": "2024-04-05T12:01:20.705372Z"
    }
   },
   "id": "7e1995874180569"
  },
  {
   "cell_type": "markdown",
   "source": [
    "## Get Drug Details\n",
    "#### Create GET request strings"
   ],
   "metadata": {
    "collapsed": false
   },
   "id": "e77f786e7b33164d"
  },
  {
   "cell_type": "code",
   "execution_count": 26,
   "outputs": [
    {
     "name": "stdout",
     "output_type": "stream",
     "text": [
      "                             name approval_ID substanceClass    status  \\\n",
      "0   TACROLIMUS ANHYDROUS 8-EPIMER  294O3172M2       chemical  approved   \n",
      "1                    PIMECROLIMUS  7KYV510875       chemical  approved   \n",
      "2                  MEFENAMIC ACID  367589PJ2C       chemical  approved   \n",
      "3                      GABAPENTIN  6CW7F3G59X       chemical  approved   \n",
      "4                       DILTIAZEM  EE92BBP03H       chemical  approved   \n",
      "5                      ISRADIPINE  YO1UK1S598       chemical  approved   \n",
      "6                      EVEROLIMUS  9HW64Q8G6G       chemical  approved   \n",
      "7        2-AMINO-4-METHYLPYRIDINE  394N1Z644H       chemical  approved   \n",
      "8                       SUNITINIB  V99T50803M       chemical  approved   \n",
      "9                    PREDNISOLONE  9PHQ9Y1OLM       chemical  approved   \n",
      "10                     SIVELESTAT  DWI62G0P59       chemical  approved   \n",
      "11                     PAROXETINE  41VRH5220H       chemical  approved   \n",
      "12                   NITRENDIPINE  9B627AW319       chemical  approved   \n",
      "13                   TEMSIROLIMUS  624KN6GM2T       chemical  approved   \n",
      "14                  CEPHARANTHINE  7592YJ0J6T       chemical  approved   \n",
      "15                    HYDRALAZINE  26NAK24LS8       chemical  approved   \n",
      "16                   NORGESTIMATE  C291HFX4DY        mixture  approved   \n",
      "17                      SIROLIMUS  W36ZG6FT64       chemical  approved   \n",
      "18           GABAPENTIN ENACARBIL  75OCL1SPBQ       chemical  approved   \n",
      "19                     TELAPREVIR  655M5O3W0U       chemical  approved   \n",
      "20                        DAPSONE  8W5C518302       chemical  approved   \n",
      "21                      VERAPAMIL  CJ0O37KU29       chemical  approved   \n",
      "22                 METOCLOPRAMIDE  L4YEB44I46       chemical  approved   \n",
      "23                      FTIVAZIDE  40Q4C3O4V0       chemical  approved   \n",
      "24                      AMILORIDE  7DZO8EB0Z3       chemical  approved   \n",
      "25                    ABEMACICLIB  60UAB198HK       chemical  approved   \n",
      "26                     PREGABALIN  55JG375S6M       chemical  approved   \n",
      "27                     NIFEDIPINE  I9ZF7L6G2L       chemical  approved   \n",
      "28                      CLEMIZOLE  T97CB3796L       chemical  approved   \n",
      "29                     NIMODIPINE  57WA9QZ5WH       chemical  approved   \n",
      "\n",
      "         formula        mwt  \n",
      "0     C44H69NO12   804.0182  \n",
      "1   C43H68ClNO11   810.4530  \n",
      "2      C15H15NO2   241.2851  \n",
      "3       C9H17NO2   171.2368  \n",
      "4    C22H26N2O4S   414.5180  \n",
      "5     C19H21N3O5   371.3871  \n",
      "6     C53H83NO14   958.2244  \n",
      "7         C6H8N2   108.1411  \n",
      "8    C22H27FN4O2   398.4738  \n",
      "9       C21H28O5   360.4440  \n",
      "10   C20H22N2O7S   434.4630  \n",
      "11    C19H20FNO3   329.3654  \n",
      "12    C18H20N2O6   360.3612  \n",
      "13    C56H87NO16  1030.2871  \n",
      "14    C37H38N2O6   606.7074  \n",
      "15        C8H8N4   160.1759  \n",
      "16           NaN        NaN  \n",
      "17    C51H79NO13   914.1719  \n",
      "18     C16H27NO6   329.3887  \n",
      "19    C36H53N7O6   679.8493  \n",
      "20   C12H12N2O2S   248.3010  \n",
      "21    C27H38N2O4   454.6016  \n",
      "22  C14H22ClN3O2   299.7960  \n",
      "23    C14H13N3O3   271.2713  \n",
      "24     C6H8ClN7O   229.6270  \n",
      "25    C27H32F2N8   506.5934  \n",
      "26      C8H17NO2   159.2261  \n",
      "27    C17H18N2O6   346.3346  \n",
      "28    C19H20ClN3   325.8350  \n",
      "29    C21H26N2O7   418.4403  \n"
     ]
    }
   ],
   "source": [
    "drug_requests = [f\"https://drugs.ncats.io/api/v1/substances({unii})?view=full\" for unii in unii_aliases]\n",
    "\n",
    "drug_objects = []\n",
    "for req in drug_requests:\n",
    "    \n",
    "    drug_json = json.loads(requests.get(req).text)\n",
    "    \n",
    "    drug_obj = {\n",
    "        \"name\": drug_json[\"_name\"], \n",
    "        \"approval_ID\": drug_json[\"approvalID\"],\n",
    "        \"substanceClass\": drug_json[\"substanceClass\"],\n",
    "        \"status\": drug_json[\"status\"]\n",
    "    }\n",
    "    if \"structure\" in drug_json:\n",
    "        drug_obj[\"formula\"] = drug_json[\"structure\"][\"formula\"]\n",
    "        drug_obj[\"mwt\"] = drug_json[\"structure\"][\"mwt\"]\n",
    "    \n",
    "    drug_objects.append(drug_obj)\n",
    "\n",
    "df = pd.DataFrame(drug_objects)\n",
    "print(df)"
   ],
   "metadata": {
    "collapsed": false,
    "ExecuteTime": {
     "end_time": "2024-04-05T12:01:36.380694Z",
     "start_time": "2024-04-05T12:01:22.501100Z"
    }
   },
   "id": "2d4bd27398058756"
  },
  {
   "cell_type": "code",
   "execution_count": null,
   "outputs": [],
   "source": [],
   "metadata": {
    "collapsed": false
   },
   "id": "22297d5927c88151"
  }
 ],
 "metadata": {
  "kernelspec": {
   "display_name": "Python 3",
   "language": "python",
   "name": "python3"
  },
  "language_info": {
   "codemirror_mode": {
    "name": "ipython",
    "version": 2
   },
   "file_extension": ".py",
   "mimetype": "text/x-python",
   "name": "python",
   "nbconvert_exporter": "python",
   "pygments_lexer": "ipython2",
   "version": "2.7.6"
  }
 },
 "nbformat": 4,
 "nbformat_minor": 5
}
