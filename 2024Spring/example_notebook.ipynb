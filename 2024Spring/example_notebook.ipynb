{
 "cells": [
  {
   "cell_type": "markdown",
   "source": [
    "# Get a list of Targets based on a pathway\n",
    "#### Create a POST request to the RaMP API"
   ],
   "metadata": {
    "collapsed": false
   },
   "id": "f8b082a3fc7fe83d"
  },
  {
   "cell_type": "code",
   "execution_count": 278,
   "id": "440d964d31af4cab",
   "metadata": {
    "collapsed": false,
    "ExecuteTime": {
     "end_time": "2024-10-25T17:44:16.660858Z",
     "start_time": "2024-10-25T17:44:16.652051Z"
    }
   },
   "outputs": [],
   "source": [
    "import requests\n",
    "import pandas as pd\n",
    "import json\n",
    "\n",
    "# see https://rampdb.nih.gov/api for details\n",
    "\n",
    "ramp_url = \"https://rampdb.nih.gov/api/analytes-from-pathways\"\n",
    "\n",
    "post_body = {\n",
    "    \"analyte_type\": \"gene\",\n",
    "    \"names_or_ids\": \"names\",\n",
    "    \"max_pathway_size\": 500,\n",
    "    \"pathway\": [\"Sleep regulation\"]\n",
    "}"
   ]
  },
  {
   "cell_type": "markdown",
   "id": "28ae39fa028f3671",
   "metadata": {
    "collapsed": false,
    "user_expressions": []
   },
   "source": [
    "#### do the POST request"
   ]
  },
  {
   "cell_type": "code",
   "execution_count": 279,
   "id": "5317b4f5c5587754",
   "metadata": {
    "collapsed": false,
    "ExecuteTime": {
     "end_time": "2024-10-25T17:44:18.996223Z",
     "start_time": "2024-10-25T17:44:18.100232Z"
    }
   },
   "outputs": [],
   "source": [
    "response = requests.post(ramp_url, data=post_body)\n",
    "response_json = json.loads(response.text)[\"data\"]"
   ]
  },
  {
   "cell_type": "markdown",
   "source": [
    "#### Parse the result"
   ],
   "metadata": {
    "collapsed": false
   },
   "id": "d98be07d2196b280"
  },
  {
   "cell_type": "code",
   "execution_count": 280,
   "id": "b1bc10c77c95d13a",
   "metadata": {
    "collapsed": false,
    "ExecuteTime": {
     "end_time": "2024-10-25T17:44:19.646862Z",
     "start_time": "2024-10-25T17:44:19.635001Z"
    }
   },
   "outputs": [
    {
     "name": "stdout",
     "output_type": "stream",
     "text": [
      "              0\n",
      "0        H7C0Z2\n",
      "1    A0A7P0TBK2\n",
      "2        P50129\n",
      "3        P56645\n",
      "4    A0A2R8Y567\n",
      "..          ...\n",
      "191      B2R727\n",
      "192      Q16783\n",
      "193      Q99808\n",
      "194  A0A1B0GTH5\n",
      "195  A0A0S2Z3B9\n",
      "\n",
      "[196 rows x 1 columns]\n"
     ]
    }
   ],
   "source": [
    "target_uniprots = []\n",
    "for entry in response_json:\n",
    "    ids = entry['sourceAnalyteIDs'].split(',')\n",
    "    for id in ids:\n",
    "        if id.startswith('uniprot:'):\n",
    "            uniprot = id.split(':')[1]\n",
    "            target_uniprots.append(uniprot)\n",
    "            \n",
    "target_uniprots = list(set(target_uniprots))\n",
    "\n",
    "print(pd.DataFrame(target_uniprots))"
   ]
  },
  {
   "cell_type": "markdown",
   "id": "a19100cdafc41284",
   "metadata": {
    "collapsed": false,
    "user_expressions": []
   },
   "source": [
    "# Get gene-disease associations and drug activities for those targets\n",
    "#### Create a POST request to the Pharos API"
   ]
  },
  {
   "cell_type": "code",
   "execution_count": 281,
   "id": "d573f51efc43f8cb",
   "metadata": {
    "collapsed": false,
    "ExecuteTime": {
     "end_time": "2024-10-25T17:44:23.532152Z",
     "start_time": "2024-10-25T17:44:23.525983Z"
    }
   },
   "outputs": [],
   "source": [
    "# see https://pharos.nih.gov/api for details\n",
    "\n",
    "pharos_url = \"https://pharos-api.ncats.io/graphql\"\n",
    "\n",
    "post_body = {\n",
    "  \"query\": \"\"\"query targetDetails($targets: [String]){\n",
    "  targets(targets: $targets) {\n",
    "    count\n",
    "    targets(top: 100000) {\n",
    "      name\n",
    "      uniprot\n",
    "      drugs:ligands(isdrug: true) {\n",
    "        name\n",
    "        smiles\n",
    "        synonyms {\n",
    "          value\n",
    "          name\n",
    "        }\n",
    "      }\n",
    "      ligands(isdrug: false) {\n",
    "        name\n",
    "        smiles\n",
    "        synonyms {\n",
    "          value\n",
    "          name\n",
    "        }\n",
    "      }\n",
    "      diseases {\n",
    "        mondoID\n",
    "        name\n",
    "        mondoEquivalents {\n",
    "          id\n",
    "          name\n",
    "        }\n",
    "      }\n",
    "    }\n",
    "  }\n",
    "}\"\"\",\n",
    "  \"variables\": {\"targets\": target_uniprots},\n",
    "  \"operationName\": \"targetDetails\"\n",
    "}"
   ]
  },
  {
   "cell_type": "markdown",
   "id": "765e1295674bebbb",
   "metadata": {
    "collapsed": false,
    "user_expressions": []
   },
   "source": [
    "#### do the POST request"
   ]
  },
  {
   "cell_type": "code",
   "execution_count": 282,
   "id": "6a80c604d661327f",
   "metadata": {
    "collapsed": false,
    "ExecuteTime": {
     "end_time": "2024-10-25T17:44:40.755156Z",
     "start_time": "2024-10-25T17:44:24.726713Z"
    }
   },
   "outputs": [],
   "source": [
    "response = requests.post(pharos_url, json=post_body)\n",
    "response_json = json.loads(response.text)[\"data\"]\n",
    "target_list = response_json[\"targets\"][\"targets\"]"
   ]
  },
  {
   "cell_type": "markdown",
   "id": "fbe4e307bd32f2bb",
   "metadata": {
    "collapsed": false,
    "user_expressions": []
   },
   "source": [
    "#### Parse the disease results"
   ]
  },
  {
   "cell_type": "code",
   "execution_count": 283,
   "id": "2d6e269af85730ae",
   "metadata": {
    "collapsed": false,
    "ExecuteTime": {
     "end_time": "2024-10-25T17:44:40.779426Z",
     "start_time": "2024-10-25T17:44:40.771752Z"
    }
   },
   "outputs": [
    {
     "name": "stdout",
     "output_type": "stream",
     "text": [
      "           mondoID                                      name  \\\n",
      "0    MONDO:0005391                    restless legs syndrome   \n",
      "1    MONDO:0020560          atypical teratoid rhabdoid tumor   \n",
      "2    MONDO:0021191                      malignant ependymoma   \n",
      "3    MONDO:0008170                            ovarian cancer   \n",
      "4    MONDO:0018177                              glioblastoma   \n",
      "..             ...                                       ...   \n",
      "345  MONDO:0005086                      renal cell carcinoma   \n",
      "346  MONDO:0007154  arteriovenous malformations of the brain   \n",
      "347  MONDO:0005265                inflammatory bowel disease   \n",
      "348  MONDO:0006662                        aseptic meningitis   \n",
      "349  MONDO:0004994                            cardiomyopathy   \n",
      "\n",
      "                                      mondoEquivalents  \n",
      "0    [{'id': 'DOID:0050425', 'name': 'restless legs...  \n",
      "1    [{'id': 'DOID:2129', 'name': 'atypical teratoi...  \n",
      "2    [{'id': 'DOID:5074', 'name': 'malignant ependy...  \n",
      "3    [{'id': 'COHD:4181351', 'name': None}, {'id': ...  \n",
      "4    [{'id': 'DOID:3068', 'name': 'glioblastoma mul...  \n",
      "..                                                 ...  \n",
      "345  [{'id': 'DOID:4450', 'name': 'renal cell carci...  \n",
      "346  [{'id': 'COHD:4121803', 'name': None}, {'id': ...  \n",
      "347  [{'id': 'DOID:0050589', 'name': 'inflammatory ...  \n",
      "348  [{'id': 'DOID:12157', 'name': 'aseptic meningi...  \n",
      "349  [{'id': 'COHD:321319', 'name': None}, {'id': '...  \n",
      "\n",
      "[350 rows x 3 columns]\n",
      "['GARD:0000555', 'GARD:0007015', 'GARD:0006383', 'GARD:0010262', 'GARD:0010246', 'GARD:0009953', 'GARD:0011944', 'GARD:0011960', 'GARD:0006105', 'GARD:0007392', 'GARD:0006855', 'GARD:0007185', 'GARD:0005748', 'GARD:0000537', 'GARD:0002491', 'GARD:0007162', 'GARD:0009371', 'GARD:0007513', 'GARD:0007264', 'GARD:0005244', 'GARD:0002714', 'GARD:0011963', 'GARD:0006677', 'GARD:0006516', 'GARD:0010191', 'GARD:0006167', 'GARD:0008198', 'GARD:0002917', 'GARD:0007628', 'GARD:0011918', 'GARD:0006225', 'GARD:0010287', 'GARD:0003697', 'GARD:0009808', 'GARD:0011958', 'GARD:0005871', 'GARD:0005745', 'GARD:0001902', 'GARD:0012757', 'GARD:0003020', 'GARD:0006956', 'GARD:0007893', 'GARD:0007005', 'GARD:0010632', 'GARD:0007827', 'GARD:0007783', 'GARD:0005725', 'GARD:0010273', 'GARD:0007887', 'GARD:0011926', 'GARD:0006881', 'GARD:0013177', 'GARD:0009226', 'GARD:0013215', 'GARD:0001465', 'GARD:0007295', 'GARD:0005742', 'GARD:0010252']\n"
     ]
    }
   ],
   "source": [
    "disease_objects = [disease for target in target_list for disease in target[\"diseases\"]]\n",
    "disease_names = list(set(disease[\"name\"] for disease in disease_objects))\n",
    "\n",
    "print(pd.DataFrame(disease_objects))\n",
    "\n",
    "gard_aliases = [alias[\"id\"] for disease in disease_objects if disease[\"mondoEquivalents\"] is not None for alias in disease[\"mondoEquivalents\"] if alias[\"id\"].startswith(\"GARD:\")]\n",
    "gard_aliases = list(set(gard_aliases))\n",
    "\n",
    "print(gard_aliases)"
   ]
  },
  {
   "cell_type": "markdown",
   "id": "7f3fadd30404756",
   "metadata": {
    "collapsed": false,
    "user_expressions": []
   },
   "source": [
    "#### Parse the drug results"
   ]
  },
  {
   "cell_type": "code",
   "execution_count": 284,
   "id": "caf3869f515943af",
   "metadata": {
    "collapsed": false,
    "ExecuteTime": {
     "end_time": "2024-10-25T17:44:40.807291Z",
     "start_time": "2024-10-25T17:44:40.787209Z"
    }
   },
   "outputs": [
    {
     "name": "stdout",
     "output_type": "stream",
     "text": [
      "                                                  name  \\\n",
      "0    3-[[5-[4-(tert-butylsulfamoyl)-1-naphthyl]-4-(...   \n",
      "1                  2-(4-tert-Butyl)phenoxycyclohexanol   \n",
      "2    (2S,5S,8S,11S,14S,17S,20S,23S,26S,29S,32S,35S,...   \n",
      "3    (2S,5S,8S,11S,14S,17S,20S,23S,26S,29S,32S,35S,...   \n",
      "4    (2S,5S,8S,11S,14S,17S,20S,23S,26S,29S,32S,35S,...   \n",
      "..                                                 ...   \n",
      "282                                       fluphenazine   \n",
      "283                                           lisuride   \n",
      "284                                         metirosine   \n",
      "285                                       prednisolone   \n",
      "286                                         siltuximab   \n",
      "\n",
      "                                                smiles  \\\n",
      "0    CC(C)(C)NS(=O)(=O)c1ccc(-c2sc(C(=O)N[C@H]3C[C@...   \n",
      "1                         CC(C)(C)c1ccc(OC2CCCCC2O)cc1   \n",
      "2    CC[C@H](C)[C@H](NC(=O)[C@@H]1CCCN1C(=O)[C@@H](...   \n",
      "3    CC[C@H](C)[C@H](N)C(=O)N[C@@H](CCCCN)C(=O)N1CC...   \n",
      "4    CC[C@H](C)[C@H](NC(=O)[C@H](Cc1ccc(O)cc1)NC(=O...   \n",
      "..                                                 ...   \n",
      "282     OCCN1CCN(CC1)CCCN1c2ccccc2Sc2c1cc(cc2)C(F)(F)F   \n",
      "283  CCN(CC)C(=O)N[C@@H]1CN(C)[C@@H]2CC3=CNC4=CC=CC...   \n",
      "284                    C[C@](N)(CC1=CC=C(O)C=C1)C(O)=O   \n",
      "285  C[C@]12C[C@H](O)[C@H]3[C@@H](CCC4=CC(=O)C=C[C@...   \n",
      "286                                               None   \n",
      "\n",
      "                                              synonyms  \n",
      "0    [{'value': 'CHEMBL4128926', 'name': 'ChEMBL'},...  \n",
      "1    [{'value': '16033', 'name': 'PubChem'}, {'valu...  \n",
      "2    [{'value': '56841989', 'name': 'PubChem'}, {'v...  \n",
      "3    [{'value': '145986472', 'name': 'PubChem'}, {'...  \n",
      "4    [{'value': '145992181', 'name': 'PubChem'}, {'...  \n",
      "..                                                 ...  \n",
      "282  [{'value': 'S79426A41Z', 'name': 'unii'}, {'va...  \n",
      "283  [{'value': 'E0QN3D755O', 'name': 'unii'}, {'va...  \n",
      "284  [{'value': 'DOQ0J0TPF7', 'name': 'unii'}, {'va...  \n",
      "285  [{'value': '9PHQ9Y1OLM', 'name': 'unii'}, {'va...  \n",
      "286  [{'value': 'CHEMBL1743070', 'name': 'ChEMBL'},...  \n",
      "\n",
      "[287 rows x 3 columns]\n",
      "['X72RBB02N8', '395575MZO7', 'N4K14YGM3J', '6M3C89ZY6R', '0G76K8X6C0', '64ALC7F90C', '27B90X776A', '5EXC0E384L', '95QN29S1ID', '901AS54I69', 'N7U69T4SZR', 'JL5DK93RCL', '1HIZ4DL86F', '0I55128JYK', 'J60AR2IKIC', 'JKZ19V908O', 'E0QN3D755O', '2YHB6175DO', 'W6HS99O8ZO', 'F5TD010360', '9PHQ9Y1OLM', '081L192FO9', 'W8O17SJF3T', '0K5743G68X', 'DOQ0J0TPF7', '6WVL9C355G', 'K72T3FS567', '1501393LY5', 'SHS4PU80D9', 'GLH0314RVC', '1806D8D52K', 'L6UH7ZF8HC', 'S79426A41Z', '690G0D6V8H', 'BF4C9Z1J53', 'RUM6K67ESG', '7AXV542LZ4', '3G6A5W338E', 'B76N6SBZ8R', 'Z615FRW64N', '2GZ0LIK7T4', '88TWF8015Y', 'U42B7VYA4P', '82VFR53I78', '081D12SI0Z', 'N3D6TG58NI', 'R7PLA2DM0J', '137R1N49AD']\n"
     ]
    }
   ],
   "source": [
    "drug_objects = [drug for target in target_list for drug in target[\"ligands\"]]\n",
    "drug_objects.extend([drug for target in target_list for drug in target[\"drugs\"]])\n",
    "\n",
    "drug_names = list(set(drug[\"name\"] for drug in drug_objects))\n",
    "\n",
    "print(pd.DataFrame(drug_objects))\n",
    "\n",
    "unii_aliases = [synonym[\"value\"] for drug in drug_objects for synonym in drug[\"synonyms\"] if synonym[\"name\"] == \"unii\"]\n",
    "unii_aliases = list(set(unii_aliases))\n",
    "print(unii_aliases)"
   ]
  },
  {
   "cell_type": "markdown",
   "id": "21c62a7e54cc3d03",
   "metadata": {
    "collapsed": false,
    "user_expressions": []
   },
   "source": [
    "## Get Disease Details\n",
    "#### Create POST request to the RDAS API"
   ]
  },
  {
   "cell_type": "code",
   "execution_count": 285,
   "id": "fd8388104ca9cd29",
   "metadata": {
    "collapsed": false,
    "ExecuteTime": {
     "end_time": "2024-10-25T17:44:51.752881Z",
     "start_time": "2024-10-25T17:44:51.731965Z"
    }
   },
   "outputs": [],
   "source": [
    "# see https://rdas.ncats.nih.gov/api/diseases for details\n",
    "\n",
    "rdas_url = \"https://rdas.ncats.nih.gov/api/diseases\"\n",
    "\n",
    "post_body = {\n",
    "    \"query\": \"\"\"query diseaseQuery($where: GARDWhere) {\n",
    "  gards(where: $where) {\n",
    "    GardId\n",
    "    GardName\n",
    "    MeSH\n",
    "    Synonyms\n",
    "    COUNT_ARTICLES\n",
    "    COUNT_TRIALS\n",
    "    ClassificationLevel\n",
    "  }\n",
    "}\"\"\", \n",
    "\n",
    "  \"variables\": {\"where\": {\"GardId_IN\": gard_aliases}},\n",
    "  \"operationName\": \"diseaseQuery\"\n",
    "}"
   ]
  },
  {
   "cell_type": "markdown",
   "id": "f778369ab31fe898",
   "metadata": {
    "collapsed": false,
    "user_expressions": []
   },
   "source": [
    "#### do the POST request"
   ]
  },
  {
   "cell_type": "code",
   "execution_count": 286,
   "id": "b0c99ba1161896b8",
   "metadata": {
    "collapsed": false,
    "ExecuteTime": {
     "end_time": "2024-10-25T17:44:54.090944Z",
     "start_time": "2024-10-25T17:44:53.708911Z"
    }
   },
   "outputs": [],
   "source": [
    "response = requests.post(rdas_url, json=post_body)\n",
    "response_json = json.loads(response.text)[\"data\"]"
   ]
  },
  {
   "cell_type": "markdown",
   "id": "14dd447c43f0426b",
   "metadata": {
    "collapsed": false,
    "user_expressions": []
   },
   "source": [
    "#### parse the results"
   ]
  },
  {
   "cell_type": "code",
   "execution_count": 287,
   "id": "7e1995874180569",
   "metadata": {
    "collapsed": false,
    "ExecuteTime": {
     "end_time": "2024-10-25T17:44:55.067089Z",
     "start_time": "2024-10-25T17:44:55.059507Z"
    }
   },
   "outputs": [
    {
     "name": "stdout",
     "output_type": "stream",
     "text": [
      "          GardId                                           GardName  \\\n",
      "0   GARD:0000555              X-linked adrenal hypoplasia congenita   \n",
      "1   GARD:0007015                                         Meningioma   \n",
      "2   GARD:0006383                             Carcinoma of esophagus   \n",
      "3   GARD:0009953                                  Oligodendroglioma   \n",
      "4   GARD:0006105                           Chronic myeloid leukemia   \n",
      "5   GARD:0007392      Behavioral variant of frontotemporal dementia   \n",
      "6   GARD:0006855                           Landau-Kleffner syndrome   \n",
      "7   GARD:0007185                                      Neuroblastoma   \n",
      "8   GARD:0005748  Severe combined immunodeficiency due to adenos...   \n",
      "9   GARD:0002491                                       Glioblastoma   \n",
      "10  GARD:0007162                                  Narcolepsy type 1   \n",
      "11  GARD:0009371                                Pituitary carcinoma   \n",
      "12  GARD:0007513                  Pyruvate dehydrogenase deficiency   \n",
      "13  GARD:0007264                            Oral submucous fibrosis   \n",
      "14  GARD:0002714                                   Hodgkin lymphoma   \n",
      "15  GARD:0006677                                 Huntington disease   \n",
      "16  GARD:0008198                                     Omenn syndrome   \n",
      "17  GARD:0007628                   Severe combined immunodeficiency   \n",
      "18  GARD:0011918  Autosomal dominant nocturnal frontal lobe epil...   \n",
      "19  GARD:0006225                 Rare cutaneous lupus erythematosus   \n",
      "20  GARD:0010287                                  Rolandic epilepsy   \n",
      "21  GARD:0003697                                               MODY   \n",
      "22  GARD:0009808                              Pilocytic astrocytoma   \n",
      "23  GARD:0005871                               Autoimmune hepatitis   \n",
      "24  GARD:0001902       Autosomal recessive dopa-responsive dystonia   \n",
      "25  GARD:0012757                             Acute myeloid leukemia   \n",
      "26  GARD:0003020                Cerebral arteriovenous malformation   \n",
      "27  GARD:0006956                 Sporadic Creutzfeldt-Jakob disease   \n",
      "28  GARD:0007893                                     Wilson disease   \n",
      "29  GARD:0007005                                    Medulloblastoma   \n",
      "30  GARD:0010632                Subependymal giant cell astrocytoma   \n",
      "31  GARD:0007827                                       Tuberculosis   \n",
      "32  GARD:0005725                                         Acromegaly   \n",
      "33  GARD:0007887                          Infantile spasms syndrome   \n",
      "34  GARD:0006881                                      Leishmaniasis   \n",
      "35  GARD:0013177        S-adenosylhomocysteine hydrolase deficiency   \n",
      "36  GARD:0013215                               Renal cell carcinoma   \n",
      "37  GARD:0001465  Congenital lipoid adrenal hyperplasia due to S...   \n",
      "38  GARD:0007295                                     Ovarian cancer   \n",
      "39  GARD:0010252                           Primary Sjögren syndrome   \n",
      "\n",
      "   COUNT_ARTICLES COUNT_TRIALS ClassificationLevel  \n",
      "0             183            1            Disorder  \n",
      "1           18097           82            Disorder  \n",
      "2            9992         1252  Group of disorders  \n",
      "3            3147           65            Disorder  \n",
      "4           23315          395            Disorder  \n",
      "5             394           10            Disorder  \n",
      "6             484            2            Disorder  \n",
      "7           39590          441            Disorder  \n",
      "8             427           19            Disorder  \n",
      "9           48815         1149            Disorder  \n",
      "10            556          107            Disorder  \n",
      "11            424            4            Disorder  \n",
      "12            416            5            Disorder  \n",
      "13           1692           10            Disorder  \n",
      "14          46924          607  Group of disorders  \n",
      "15          19507          224            Disorder  \n",
      "16            341            3            Disorder  \n",
      "17           5712           58  Group of disorders  \n",
      "18            241            0            Disorder  \n",
      "19              6           24  Group of disorders  \n",
      "20           1033            3            Disorder  \n",
      "21           2249            9            Disorder  \n",
      "22           1874            6            Disorder  \n",
      "23           7522           45            Disorder  \n",
      "24             89            0            Disorder  \n",
      "25          46211         1843  Group of disorders  \n",
      "26           1182           25            Disorder  \n",
      "27           1682            6            Disorder  \n",
      "28           6429           48            Disorder  \n",
      "29           8548          109            Disorder  \n",
      "30            460            3            Disorder  \n",
      "31         166230           75            Disorder  \n",
      "32           8518          172            Disorder  \n",
      "33           1723           31            Disorder  \n",
      "34          25051           58            Disorder  \n",
      "35             35            1            Disorder  \n",
      "36          48563          679  Group of disorders  \n",
      "37              1            0            Disorder  \n",
      "38          70408         1902  Group of disorders  \n",
      "39           5401            8            Disorder  \n"
     ]
    }
   ],
   "source": [
    "gard_data = [{\n",
    "    \"GardId\": obj[\"GardId\"],\n",
    "    \"GardName\": obj[\"GardName\"],\n",
    "    \"COUNT_ARTICLES\": obj[\"COUNT_ARTICLES\"],\n",
    "    \"COUNT_TRIALS\": obj[\"COUNT_TRIALS\"],\n",
    "    \"ClassificationLevel\": obj[\"ClassificationLevel\"]\n",
    "} for obj in response_json[\"gards\"]]\n",
    "df = pd.DataFrame(gard_data)\n",
    "print(df)"
   ]
  },
  {
   "cell_type": "markdown",
   "id": "e77f786e7b33164d",
   "metadata": {
    "collapsed": false,
    "user_expressions": []
   },
   "source": [
    "## Get Drug Details\n",
    "#### Create GET request strings"
   ]
  },
  {
   "cell_type": "code",
   "execution_count": null,
   "id": "2d4bd27398058756",
   "metadata": {
    "collapsed": false,
    "is_executing": true,
    "ExecuteTime": {
     "start_time": "2024-10-25T17:44:57.485775Z"
    }
   },
   "outputs": [],
   "source": [
    "drug_requests = [f\"https://drugs.ncats.io/api/v1/substances({unii})?view=full\" for unii in unii_aliases]\n",
    "\n",
    "drug_objects = []\n",
    "for req in drug_requests:\n",
    "    \n",
    "    drug_json = json.loads(requests.get(req).text)\n",
    "    \n",
    "    if \"_name\" in drug_json:\n",
    "        drug_obj = {\n",
    "            \"name\": drug_json[\"_name\"], \n",
    "            \"approval_ID\": drug_json[\"approvalID\"],\n",
    "            \"substanceClass\": drug_json[\"substanceClass\"],\n",
    "            \"status\": drug_json[\"status\"]\n",
    "        }\n",
    "        if \"structure\" in drug_json:\n",
    "            drug_obj[\"formula\"] = drug_json[\"structure\"][\"formula\"]\n",
    "            drug_obj[\"mwt\"] = drug_json[\"structure\"][\"mwt\"]\n",
    "        \n",
    "        drug_objects.append(drug_obj)\n",
    "    else:\n",
    "        print(drug_json)\n",
    "\n",
    "df = pd.DataFrame(drug_objects)\n",
    "print(df)"
   ]
  },
  {
   "cell_type": "code",
   "execution_count": null,
   "id": "22297d5927c88151",
   "metadata": {
    "collapsed": false,
    "ExecuteTime": {
     "start_time": "2024-10-25T17:31:11.875151Z"
    }
   },
   "outputs": [],
   "source": []
  }
 ],
 "metadata": {
  "kernelspec": {
   "display_name": "Python 3 (ipykernel)",
   "language": "python",
   "name": "python3"
  },
  "language_info": {
   "codemirror_mode": {
    "name": "ipython",
    "version": 3
   },
   "file_extension": ".py",
   "mimetype": "text/x-python",
   "name": "python",
   "nbconvert_exporter": "python",
   "pygments_lexer": "ipython3",
   "version": "3.11.5"
  }
 },
 "nbformat": 4,
 "nbformat_minor": 5
}
